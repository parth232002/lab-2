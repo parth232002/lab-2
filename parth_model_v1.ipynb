{
  "nbformat": 4,
  "nbformat_minor": 0,
  "metadata": {
    "colab": {
      "provenance": []
    },
    "kernelspec": {
      "name": "python3",
      "display_name": "Python 3"
    },
    "language_info": {
      "name": "python"
    }
  },
  "cells": [
    {
      "cell_type": "code",
      "execution_count": 5,
      "metadata": {
        "colab": {
          "base_uri": "https://localhost:8080/"
        },
        "id": "SkSv3NTpsibi",
        "outputId": "01e0c974-af7a-459a-876d-b5ccd15025b5"
      },
      "outputs": [
        {
          "output_type": "stream",
          "name": "stdout",
          "text": [
            "Accuracy: 0.96\n"
          ]
        }
      ],
      "source": [
        "import pandas as pd\n",
        "\n",
        "# Load the dataset\n",
        "data = pd.read_csv('/wdbc.data', header=None)\n",
        "\n",
        "# Assign column names\n",
        "column_names = [\n",
        "    'ID', 'Diagnosis', 'radius_mean', 'texture_mean', 'perimeter_mean', 'area_mean',\n",
        "    'smoothness_mean', 'compactness_mean', 'concavity_mean', 'concave points_mean',\n",
        "    'symmetry_mean', 'fractal_dimension_mean', 'radius_se', 'texture_se', 'perimeter_se',\n",
        "    'area_se', 'smoothness_se', 'compactness_se', 'concavity_se', 'concave points_se',\n",
        "    'symmetry_se', 'fractal_dimension_se', 'radius_worst', 'texture_worst', 'perimeter_worst',\n",
        "    'area_worst', 'smoothness_worst', 'compactness_worst', 'concavity_worst', 'concave points_worst',\n",
        "    'symmetry_worst', 'fractal_dimension_worst'\n",
        "]\n",
        "\n",
        "data.columns = column_names\n",
        "\n",
        "# Remove the ID column as it's not necessary\n",
        "data = data.drop(['ID'], axis=1)\n",
        "\n",
        "# Convert the Diagnosis column to numerical values\n",
        "data['Diagnosis'] = data['Diagnosis'].map({'M': 1, 'B': 0})\n",
        "\n",
        "from sklearn.model_selection import train_test_split\n",
        "from sklearn.preprocessing import StandardScaler\n",
        "from sklearn.linear_model import LogisticRegression\n",
        "from sklearn.metrics import accuracy_score\n",
        "\n",
        "# Separate features and target variable\n",
        "X = data.drop('Diagnosis', axis=1)\n",
        "y = data['Diagnosis']\n",
        "\n",
        "# Split the data into training and test sets with new test_size and random_state\n",
        "X_train, X_test, y_train, y_test = train_test_split(X, y, test_size=0.3, random_state=24)\n",
        "\n",
        "# Normalize the feature variables\n",
        "scaler = StandardScaler()\n",
        "X_train = scaler.fit_transform(X_train)\n",
        "X_test = scaler.transform(X_test)\n",
        "\n",
        "# Train a Logistic Regression model\n",
        "model_v1 = LogisticRegression()\n",
        "model_v1.fit(X_train, y_train)\n",
        "\n",
        "# Predict on the test set\n",
        "y_pred = model_v1.predict(X_test)\n",
        "\n",
        "# Evaluate model performance\n",
        "accuracy = accuracy_score(y_test, y_pred)\n",
        "print(f'Accuracy: {accuracy:.2f}')"
      ]
    }
  ]
}